{
 "cells": [
  {
   "cell_type": "code",
   "execution_count": 1,
   "metadata": {},
   "outputs": [
    {
     "name": "stderr",
     "output_type": "stream",
     "text": [
      "Using TensorFlow backend.\n"
     ]
    }
   ],
   "source": [
    "import tensorflow as tf\n",
    "from tensorflow.keras import datasets, layers, models\n",
    "import os,sys \n",
    "from IPython.display import Image\n",
    "\n",
    "\n",
    "import os, re, glob\n",
    "import cv2\n",
    "import numpy as np\n",
    "import shutil\n",
    "from numpy import argmax\n",
    "from keras.models import load_model\n",
    "\n",
    "from sklearn.model_selection import train_test_split"
   ]
  },
  {
   "cell_type": "code",
   "execution_count": 18,
   "metadata": {},
   "outputs": [
    {
     "name": "stdout",
     "output_type": "stream",
     "text": [
      "(475, 120, 120, 9)\n",
      "(475,)\n"
     ]
    }
   ],
   "source": [
    "import os, re, glob\n",
    "import cv2\n",
    "import numpy as np\n",
    "from sklearn.model_selection import train_test_split\n",
    "\n",
    "\n",
    "#filepath='/Users/jaewon/Desktop/EEGTest/images/'\n",
    "filepath='/Users/jaewon/Desktop/spectrogram/B0101T/'\n",
    "X=[]\n",
    "Y=[]\n",
    "\n",
    "image_w = 120\n",
    "image_h = 120\n",
    "\n",
    "\n",
    "def getimg(filepath):\n",
    "    for file in os.listdir(filepath):  \n",
    "        temp=[]\n",
    "        img=cv2.imread(filepath+file)\n",
    "        img=cv2.resize(img, None, fx=image_w/img.shape[1], fy=image_h/img.shape[0])\n",
    "        if \"chan01\" in file:\n",
    "            img1=img\n",
    "        elif \"chan02\" in file:\n",
    "            img2=img\n",
    "        elif \"chan03\" in file:\n",
    "            img3=img\n",
    "\n",
    "            #이미지를 뒤로 쌓을때\n",
    "            s_fir=[] \n",
    "            for fir in range(image_h):\n",
    "                s_sec=[]\n",
    "                for sec in range(image_w):\n",
    "                    s_sec.append(np.concatenate((img1[fir][sec], img2[fir][sec],img3[fir][sec]), axis=None))\n",
    "                s_fir.append(s_sec)\n",
    "            X.append(s_fir)\n",
    "            \n",
    "            #이미지를 옆으로 쌓을때\n",
    "            #s=cv2.vconcat([img1,img2,img3]) #X.append(s) \n",
    "\n",
    "            if \"right\" in file:\n",
    "                Y.append(0)\n",
    "            elif \"left in file\":\n",
    "                Y.append(1)\n",
    "            else:\n",
    "                print(\"error\")\n",
    "        else:\n",
    "            print(\"error\")\n",
    "            \n",
    "getimg(filepath)\n",
    "#filepath='/Users/jaewon/Desktop/spectrogram/B0302T/'   \n",
    "#getimg(filepath)\n",
    "filepath='/Users/jaewon/Desktop/spectrogram/B0201T/'\n",
    "getimg(filepath)\n",
    "filepath='/Users/jaewon/Desktop/spectrogram/B0202T/'\n",
    "getimg(filepath)\n",
    "filepath='/Users/jaewon/Desktop/spectrogram/B0301T/'\n",
    "getimg(filepath)\n",
    "filepath='/Users/jaewon/Desktop/spectrogram/B0302T/'\n",
    "getimg(filepath)\n",
    "\n",
    "X = np.array(X)\n",
    "Y = np.array(Y)\n",
    " \n",
    "print(X.shape)\n",
    "print(Y.shape)\n",
    "\n",
    "X_train, X_test, Y_train, Y_test = train_test_split(X,Y)"
   ]
  },
  {
   "cell_type": "code",
   "execution_count": 19,
   "metadata": {},
   "outputs": [
    {
     "data": {
      "text/plain": [
       "(30, 120, 120, 9)"
      ]
     },
     "execution_count": 19,
     "metadata": {},
     "output_type": "execute_result"
    }
   ],
   "source": [
    "X_test, X_val, Y_test, Y_val = train_test_split(X_test,Y_test)\n",
    "X_val.shape"
   ]
  },
  {
   "cell_type": "code",
   "execution_count": 25,
   "metadata": {},
   "outputs": [
    {
     "name": "stdout",
     "output_type": "stream",
     "text": [
      "WARNING:tensorflow:The `nb_epoch` argument in `fit` has been renamed `epochs`.\n",
      "Train on 356 samples, validate on 30 samples\n",
      "Epoch 1/20\n",
      "356/356 [==============================] - 4s 10ms/sample - loss: 1.4261 - accuracy: 0.4775 - val_loss: 3.3627 - val_accuracy: 0.4667\n",
      "Epoch 2/20\n",
      "356/356 [==============================] - 3s 8ms/sample - loss: 0.7486 - accuracy: 0.6152 - val_loss: 4.1906 - val_accuracy: 0.4667\n",
      "Epoch 3/20\n",
      "356/356 [==============================] - 3s 8ms/sample - loss: 0.7319 - accuracy: 0.5927 - val_loss: 1.6914 - val_accuracy: 0.5333\n",
      "Epoch 4/20\n",
      "356/356 [==============================] - 3s 8ms/sample - loss: 0.6617 - accuracy: 0.6236 - val_loss: 0.7327 - val_accuracy: 0.6000\n",
      "Epoch 5/20\n",
      "356/356 [==============================] - 3s 8ms/sample - loss: 0.5972 - accuracy: 0.6657 - val_loss: 0.8316 - val_accuracy: 0.3667\n",
      "Epoch 6/20\n",
      "356/356 [==============================] - 3s 8ms/sample - loss: 0.5664 - accuracy: 0.7191 - val_loss: 0.7793 - val_accuracy: 0.6000\n",
      "Epoch 7/20\n",
      "356/356 [==============================] - 3s 8ms/sample - loss: 0.5354 - accuracy: 0.7191 - val_loss: 0.8735 - val_accuracy: 0.5667\n",
      "Epoch 8/20\n",
      "356/356 [==============================] - 3s 8ms/sample - loss: 0.5660 - accuracy: 0.7331 - val_loss: 0.8616 - val_accuracy: 0.4667\n",
      "Epoch 9/20\n",
      "356/356 [==============================] - 5s 14ms/sample - loss: 0.4414 - accuracy: 0.8146 - val_loss: 0.6836 - val_accuracy: 0.6333\n",
      "Epoch 10/20\n",
      "356/356 [==============================] - 6s 17ms/sample - loss: 0.4530 - accuracy: 0.7949 - val_loss: 0.7782 - val_accuracy: 0.6000\n",
      "Epoch 11/20\n",
      "356/356 [==============================] - 6s 17ms/sample - loss: 0.4624 - accuracy: 0.7893 - val_loss: 0.9982 - val_accuracy: 0.4667\n",
      "Epoch 12/20\n",
      "356/356 [==============================] - 5s 15ms/sample - loss: 0.3584 - accuracy: 0.8764 - val_loss: 0.7347 - val_accuracy: 0.6000\n",
      "Epoch 13/20\n",
      "356/356 [==============================] - 6s 17ms/sample - loss: 0.2896 - accuracy: 0.8792 - val_loss: 0.7848 - val_accuracy: 0.6000\n",
      "Epoch 14/20\n",
      "356/356 [==============================] - 6s 17ms/sample - loss: 0.2420 - accuracy: 0.9073 - val_loss: 0.7647 - val_accuracy: 0.5000\n",
      "Epoch 15/20\n",
      "356/356 [==============================] - 6s 17ms/sample - loss: 0.2200 - accuracy: 0.9270 - val_loss: 0.7709 - val_accuracy: 0.6000\n",
      "Epoch 16/20\n",
      "356/356 [==============================] - 6s 17ms/sample - loss: 0.2126 - accuracy: 0.9185 - val_loss: 0.7684 - val_accuracy: 0.6667\n",
      "Epoch 17/20\n",
      "356/356 [==============================] - 6s 17ms/sample - loss: 0.1716 - accuracy: 0.9494 - val_loss: 0.7867 - val_accuracy: 0.6333\n",
      "Epoch 18/20\n",
      "356/356 [==============================] - 6s 17ms/sample - loss: 0.1988 - accuracy: 0.9185 - val_loss: 0.9396 - val_accuracy: 0.6000\n",
      "Epoch 19/20\n",
      "356/356 [==============================] - 6s 17ms/sample - loss: 0.1701 - accuracy: 0.9494 - val_loss: 0.9777 - val_accuracy: 0.5667\n",
      "Epoch 20/20\n",
      "356/356 [==============================] - 6s 17ms/sample - loss: 0.1361 - accuracy: 0.9466 - val_loss: 0.9210 - val_accuracy: 0.6333\n"
     ]
    }
   ],
   "source": [
    "from keras.callbacks import EarlyStopping\n",
    "\n",
    "\n",
    "#학습용\n",
    "model = tf.keras.models.Sequential()\n",
    "model.add(tf.keras.layers.Conv2D(2, (3, 3), padding='same', activation='relu', input_shape=(image_w,image_h,9)))\n",
    "model.add(tf.keras.layers.BatchNormalization())\n",
    "model.add(tf.keras.layers.MaxPooling2D(pool_size=(2, 2)))\n",
    "\n",
    "\n",
    "model.add(tf.keras.layers.Conv2D(2, (2, 2), padding='same', activation='relu'))\n",
    "#model.add(tf.keras.layers.BatchNormalization())\n",
    "model.add(tf.keras.layers.Dropout(0.25))\n",
    "model.add(tf.keras.layers.MaxPooling2D(pool_size=(2, 2)))\n",
    "\n",
    "\n",
    "model.add(tf.keras.layers.Flatten())\n",
    "model.add(tf.keras.layers.Dense(227, activation='relu'))\n",
    "model.add(tf.keras.layers.Dropout(0.25))\n",
    "model.add(tf.keras.layers.Dense(2, activation='softmax'))\n",
    "\n",
    "early_stopping=EarlyStopping(monitor='val_loss',patience=5)\n",
    "model.compile(loss='sparse_categorical_crossentropy',optimizer='Adam',metrics=['accuracy'])\n",
    "hist=model.fit(X_train, Y_train, batch_size=10, nb_epoch=20,validation_data=(X_val, Y_val))#,callbacks=[early_stopping]\n"
   ]
  },
  {
   "cell_type": "code",
   "execution_count": 26,
   "metadata": {},
   "outputs": [
    {
     "name": "stdout",
     "output_type": "stream",
     "text": [
      "89/1 - 1s - loss: 1.1747 - accuracy: 0.4944\n",
      "1.027164338679796 0.49438202\n"
     ]
    }
   ],
   "source": [
    "test_loss, test_acc = model.evaluate(X_test,  Y_test, verbose=2) #실제 test_data 테스트 결과\n",
    "print(test_loss, test_acc)"
   ]
  },
  {
   "cell_type": "code",
   "execution_count": 27,
   "metadata": {},
   "outputs": [
    {
     "name": "stderr",
     "output_type": "stream",
     "text": [
      "No handles with labels found to put in legend.\n"
     ]
    },
    {
     "data": {
      "image/png": "[encoded data removed]",
      "text/plain": [
       "<Figure size 432x288 with 2 Axes>"
      ]
     },
     "metadata": {
      "needs_background": "light"
     },
     "output_type": "display_data"
    }
   ],
   "source": [
    "import matplotlib.pyplot as plt\n",
    "\n",
    "fig, loss_ax = plt.subplots()\n",
    "\n",
    "acc_ax = loss_ax.twinx()\n",
    "\n",
    "acc_ax.plot(hist.history['accuracy'], 'b', label='train acc')\n",
    "acc_ax.plot(hist.history['val_accuracy'], 'g', label='val acc')\n",
    "\n",
    "loss_ax.set_xlabel('epoch')\n",
    "acc_ax.set_ylabel('accuray')\n",
    "\n",
    "loss_ax.legend(loc='upper left')\n",
    "acc_ax.legend(loc='lower left')\n",
    "\n",
    "plt.show()"
   ]
  },
  {
   "cell_type": "code",
   "execution_count": 28,
   "metadata": {},
   "outputs": [
    {
     "name": "stderr",
     "output_type": "stream",
     "text": [
      "No handles with labels found to put in legend.\n"
     ]
    },
    {
     "data": {
      "image/png": "[encoded data removed]",
      "text/plain": [
       "<Figure size 432x288 with 2 Axes>"
      ]
     },
     "metadata": {
      "needs_background": "light"
     },
     "output_type": "display_data"
    }
   ],
   "source": [
    "import matplotlib.pyplot as plt\n",
    "\n",
    "fig, loss_ax = plt.subplots()\n",
    "\n",
    "acc_ax = loss_ax.twinx()\n",
    "\n",
    "loss_ax.plot(hist.history['loss'], 'y', label='train loss')\n",
    "loss_ax.plot(hist.history['val_loss'], 'r', label='val loss')\n",
    "\n",
    "loss_ax.set_xlabel('epoch')\n",
    "loss_ax.set_ylabel('loss')\n",
    "\n",
    "loss_ax.legend(loc='upper left')\n",
    "acc_ax.legend(loc='lower left')\n",
    "\n",
    "plt.show()"
   ]
  },
  {
   "cell_type": "code",
   "execution_count": null,
   "metadata": {},
   "outputs": [],
   "source": []
  }
 ],
 "metadata": {
  "kernelspec": {
   "display_name": "Python 3",
   "language": "python",
   "name": "python3"
  },
  "language_info": {
   "codemirror_mode": {
    "name": "ipython",
    "version": 3
   },
   "file_extension": ".py",
   "mimetype": "text/x-python",
   "name": "python",
   "nbconvert_exporter": "python",
   "pygments_lexer": "ipython3",
   "version": "3.7.3"
  }
 },
 "nbformat": 4,
 "nbformat_minor": 2
}
